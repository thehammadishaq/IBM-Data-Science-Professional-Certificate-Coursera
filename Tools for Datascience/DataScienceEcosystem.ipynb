{
 "cells": [
  {
   "cell_type": "markdown",
   "id": "bc561b96-af50-42bd-90aa-96ed26fadb4a",
   "metadata": {},
   "source": [
    "# Data Science Tools and Ecosystem\n"
   ]
  },
  {
   "cell_type": "markdown",
   "id": "194b48bb-2410-4a68-8827-10abbf9e028f",
   "metadata": {},
   "source": [
    "In this notebook, Data Science Tools and Ecosystem are summarized.\n"
   ]
  },
  {
   "cell_type": "markdown",
   "id": "0f05335b-cc80-4d81-8637-a11d8aef7acc",
   "metadata": {},
   "source": [
    "Some of the popular languages that Data Scientists use are:\n",
    "1. Python\n",
    "2. R\n",
    "3. SQL\n"
   ]
  },
  {
   "cell_type": "markdown",
   "id": "0e84f988-fe2b-436d-b07c-ee6069716b19",
   "metadata": {},
   "source": [
    "Some of the commonly used libraries used by Data Scientists include:\n",
    "1. NumPy\n",
    "2. Pandas\n",
    "3. Matplotlib\n"
   ]
  },
  {
   "cell_type": "markdown",
   "id": "9b8acfe9-99a0-43bc-8a3b-0ff17a40ff24",
   "metadata": {},
   "source": [
    "| Data Science Tools |\n",
    "|---------------------|\n",
    "| Jupyter Notebook    |\n",
    "| Spyder              |\n",
    "| RStudio             |\n"
   ]
  },
  {
   "cell_type": "markdown",
   "id": "043da3f1-6651-4df5-970e-4c4b033ec455",
   "metadata": {},
   "source": [
    "### Below are a few examples of evaluating arithmetic expressions in Python.\n"
   ]
  },
  {
   "cell_type": "code",
   "execution_count": 1,
   "id": "b5526336-4139-4ae4-a1c4-e74df08743a3",
   "metadata": {},
   "outputs": [
    {
     "data": {
      "text/plain": [
       "17"
      ]
     },
     "execution_count": 1,
     "metadata": {},
     "output_type": "execute_result"
    }
   ],
   "source": [
    "# This is a simple arithmetic expression to multiply then add integers\n",
    "result = (3 * 4) + 5\n",
    "result\n"
   ]
  },
  {
   "cell_type": "code",
   "execution_count": 2,
   "id": "49f43079-347f-4769-9d0f-004a5ce7a5cb",
   "metadata": {},
   "outputs": [
    {
     "data": {
      "text/plain": [
       "3.3333333333333335"
      ]
     },
     "execution_count": 2,
     "metadata": {},
     "output_type": "execute_result"
    }
   ],
   "source": [
    "# This will convert 200 minutes to hours by dividing by 60\n",
    "hours = 200 / 60\n",
    "hours\n"
   ]
  },
  {
   "cell_type": "markdown",
   "id": "99a8c4b7-d1f7-443e-856b-1eb55257d745",
   "metadata": {},
   "source": [
    "**Objectives:**\n",
    "- List popular languages for Data Science\n",
    "- Identify key libraries used in Data Science\n",
    "- Demonstrate arithmetic operations in Python\n",
    "- Convert units using Python\n"
   ]
  },
  {
   "cell_type": "markdown",
   "id": "83b7ffba-7d17-479d-ba71-4a52ecdf1f0d",
   "metadata": {},
   "source": [
    "## Author\n",
    "Hammad Ishaq\n"
   ]
  },
  {
   "cell_type": "code",
   "execution_count": null,
   "id": "f538ebb9-b38c-4db8-b467-e4e95dc2797a",
   "metadata": {},
   "outputs": [],
   "source": []
  }
 ],
 "metadata": {
  "kernelspec": {
   "display_name": "Python 3 (ipykernel)",
   "language": "python",
   "name": "python3"
  },
  "language_info": {
   "codemirror_mode": {
    "name": "ipython",
    "version": 3
   },
   "file_extension": ".py",
   "mimetype": "text/x-python",
   "name": "python",
   "nbconvert_exporter": "python",
   "pygments_lexer": "ipython3",
   "version": "3.12.7"
  }
 },
 "nbformat": 4,
 "nbformat_minor": 5
}
